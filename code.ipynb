{
 "cells": [
  {
   "cell_type": "code",
   "execution_count": 21,
   "metadata": {},
   "outputs": [
    {
     "name": "stdout",
     "output_type": "stream",
     "text": [
      "200\n",
      "{'response': 'We are connecting you to a human agent.', 'success': True, 'error': '', 'type': ['talk_to_human_agent']}\n"
     ]
    }
   ],
   "source": [
    "import requests\n",
    "\n",
    "url = \"http://0.0.0.0:8000/taskproof/converse\"\n",
    "headers = {\n",
    "    \"Content-Type\": \"application/json\"\n",
    "}\n",
    "data = {\n",
    "    \"message_id\": \"123\",\n",
    "    \"consumer_id\": \"456\",\n",
    "    \"prompt\": \"Hey I want to talk to agent\"\n",
    "}\n",
    "\n",
    "response = requests.post(url, headers=headers, json=data)\n",
    "\n",
    "print(response.status_code)\n",
    "print(response.json())\n"
   ]
  },
  {
   "cell_type": "code",
   "execution_count": 29,
   "metadata": {},
   "outputs": [
    {
     "data": {
      "text/plain": [
       "'Error code: 400 - {\\'error\\': {\\'message\\': \"Invalid \\'messages[2].name\\': string does not match pattern. Expected a string that matches the pattern \\'^[a-zA-Z0-9_-]+$\\'.\", \\'type\\': \\'invalid_request_error\\', \\'param\\': \\'messages[2].name\\', \\'code\\': \\'invalid_value\\'}}'"
      ]
     },
     "execution_count": 29,
     "metadata": {},
     "output_type": "execute_result"
    }
   ],
   "source": [
    "response.json()['error']"
   ]
  },
  {
   "cell_type": "code",
   "execution_count": null,
   "metadata": {},
   "outputs": [],
   "source": [
    "https://radio-api-ektt.onrender.com"
   ]
  },
  {
   "cell_type": "code",
   "execution_count": 21,
   "metadata": {},
   "outputs": [
    {
     "name": "stdout",
     "output_type": "stream",
     "text": [
      "Unexpected exception formatting exception. Falling back to standard exception\n"
     ]
    },
    {
     "name": "stderr",
     "output_type": "stream",
     "text": [
      "Traceback (most recent call last):\n",
      "  File \"/Users/thomas_admin/Downloads/self_work/radio_satyam/radio_venv/lib/python3.11/site-packages/urllib3/connection.py\", line 196, in _new_conn\n",
      "  File \"/Users/thomas_admin/Downloads/self_work/radio_satyam/radio_venv/lib/python3.11/site-packages/urllib3/util/connection.py\", line 60, in create_connection\n",
      "  File \"/usr/local/Cellar/python@3.11/3.11.7_1/Frameworks/Python.framework/Versions/3.11/lib/python3.11/socket.py\", line 962, in getaddrinfo\n",
      "    for res in _socket.getaddrinfo(host, port, family, type, proto, flags):\n",
      "               ^^^^^^^^^^^^^^^^^^^^^^^^^^^^^^^^^^^^^^^^^^^^^^^^^^^^^^^^^^^\n",
      "socket.gaierror: [Errno 8] nodename nor servname provided, or not known\n",
      "\n",
      "The above exception was the direct cause of the following exception:\n",
      "\n",
      "Traceback (most recent call last):\n",
      "  File \"/Users/thomas_admin/Downloads/self_work/radio_satyam/radio_venv/lib/python3.11/site-packages/urllib3/connectionpool.py\", line 789, in urlopen\n",
      "  File \"/Users/thomas_admin/Downloads/self_work/radio_satyam/radio_venv/lib/python3.11/site-packages/urllib3/connectionpool.py\", line 490, in _make_request\n",
      "  File \"/Users/thomas_admin/Downloads/self_work/radio_satyam/radio_venv/lib/python3.11/site-packages/urllib3/connectionpool.py\", line 466, in _make_request\n",
      "  File \"/Users/thomas_admin/Downloads/self_work/radio_satyam/radio_venv/lib/python3.11/site-packages/urllib3/connectionpool.py\", line 1095, in _validate_conn\n",
      "  File \"/Users/thomas_admin/Downloads/self_work/radio_satyam/radio_venv/lib/python3.11/site-packages/urllib3/connection.py\", line 615, in connect\n",
      "  File \"/Users/thomas_admin/Downloads/self_work/radio_satyam/radio_venv/lib/python3.11/site-packages/urllib3/connection.py\", line 203, in _new_conn\n",
      "urllib3.exceptions.NameResolutionError: <urllib3.connection.HTTPSConnection object at 0x12df9bed0>: Failed to resolve 'radio-api-ektt.onrender.com' ([Errno 8] nodename nor servname provided, or not known)\n",
      "\n",
      "The above exception was the direct cause of the following exception:\n",
      "\n",
      "Traceback (most recent call last):\n",
      "  File \"/Users/thomas_admin/Downloads/self_work/radio_satyam/radio_venv/lib/python3.11/site-packages/requests/adapters.py\", line 667, in send\n",
      "  File \"/Users/thomas_admin/Downloads/self_work/radio_satyam/radio_venv/lib/python3.11/site-packages/urllib3/connectionpool.py\", line 843, in urlopen\n",
      "  File \"/Users/thomas_admin/Downloads/self_work/radio_satyam/radio_venv/lib/python3.11/site-packages/urllib3/util/retry.py\", line 519, in increment\n",
      "urllib3.exceptions.MaxRetryError: HTTPSConnectionPool(host='radio-api-ektt.onrender.com', port=443): Max retries exceeded with url: /taskproof/converse (Caused by NameResolutionError(\"<urllib3.connection.HTTPSConnection object at 0x12df9bed0>: Failed to resolve 'radio-api-ektt.onrender.com' ([Errno 8] nodename nor servname provided, or not known)\"))\n",
      "\n",
      "During handling of the above exception, another exception occurred:\n",
      "\n",
      "Traceback (most recent call last):\n",
      "  File \"/Users/thomas_admin/Downloads/self_work/radio_satyam/radio_venv/lib/python3.11/site-packages/IPython/core/interactiveshell.py\", line 3577, in run_code\n",
      "  File \"/var/folders/tw/xrh41djs3wn7zlzp_lww4t080000gn/T/ipykernel_95434/1777566942.py\", line 13, in <module>\n",
      "    response = requests.post(url, headers=headers, json=data)\n",
      "               ^^^^^^^^^^^^^^^^^^^^^^^^^^^^^^^^^^^^^^^^^^^^^^\n",
      "  File \"/Users/thomas_admin/Downloads/self_work/radio_satyam/radio_venv/lib/python3.11/site-packages/requests/api.py\", line 115, in post\n",
      "  File \"/Users/thomas_admin/Downloads/self_work/radio_satyam/radio_venv/lib/python3.11/site-packages/requests/api.py\", line 59, in request\n",
      "  File \"/Users/thomas_admin/Downloads/self_work/radio_satyam/radio_venv/lib/python3.11/site-packages/requests/sessions.py\", line 589, in request\n",
      "  File \"/Users/thomas_admin/Downloads/self_work/radio_satyam/radio_venv/lib/python3.11/site-packages/requests/sessions.py\", line 703, in send\n",
      "  File \"/Users/thomas_admin/Downloads/self_work/radio_satyam/radio_venv/lib/python3.11/site-packages/requests/adapters.py\", line 700, in send\n",
      "requests.exceptions.ConnectionError: HTTPSConnectionPool(host='radio-api-ektt.onrender.com', port=443): Max retries exceeded with url: /taskproof/converse (Caused by NameResolutionError(\"<urllib3.connection.HTTPSConnection object at 0x12df9bed0>: Failed to resolve 'radio-api-ektt.onrender.com' ([Errno 8] nodename nor servname provided, or not known)\"))\n",
      "\n",
      "During handling of the above exception, another exception occurred:\n",
      "\n",
      "Traceback (most recent call last):\n",
      "  File \"/Users/thomas_admin/Downloads/self_work/radio_satyam/radio_venv/lib/python3.11/site-packages/pygments/styles/__init__.py\", line 45, in get_style_by_name\n",
      "ModuleNotFoundError: No module named 'pygments.styles.default'\n",
      "\n",
      "During handling of the above exception, another exception occurred:\n",
      "\n",
      "Traceback (most recent call last):\n",
      "  File \"/Users/thomas_admin/Downloads/self_work/radio_satyam/radio_venv/lib/python3.11/site-packages/IPython/core/interactiveshell.py\", line 2168, in showtraceback\n",
      "  File \"/Users/thomas_admin/Downloads/self_work/radio_satyam/radio_venv/lib/python3.11/site-packages/IPython/core/ultratb.py\", line 1454, in structured_traceback\n",
      "  File \"/Users/thomas_admin/Downloads/self_work/radio_satyam/radio_venv/lib/python3.11/site-packages/IPython/core/ultratb.py\", line 1345, in structured_traceback\n",
      "  File \"/Users/thomas_admin/Downloads/self_work/radio_satyam/radio_venv/lib/python3.11/site-packages/IPython/core/ultratb.py\", line 1192, in structured_traceback\n",
      "  File \"/Users/thomas_admin/Downloads/self_work/radio_satyam/radio_venv/lib/python3.11/site-packages/IPython/core/ultratb.py\", line 1082, in format_exception_as_a_whole\n",
      "  File \"/Users/thomas_admin/Downloads/self_work/radio_satyam/radio_venv/lib/python3.11/site-packages/IPython/core/ultratb.py\", line 1133, in get_records\n",
      "  File \"/Users/thomas_admin/Downloads/self_work/radio_satyam/radio_venv/lib/python3.11/site-packages/pygments/styles/__init__.py\", line 47, in get_style_by_name\n",
      "pygments.util.ClassNotFound: Could not find style module 'pygments.styles.default', though it should be builtin.\n"
     ]
    }
   ],
   "source": [
    "import requests\n",
    "\n",
    "url = \"https://radio-api-ektt.onrender.com/taskproof/converse\"\n",
    "headers = {\n",
    "    \"Content-Type\": \"application/json\"\n",
    "}\n",
    "data = {\n",
    "    \"message_id\": \"123\",\n",
    "    \"consumer_id\": \"456\",\n",
    "    \"prompt\": \"i want to upload an image\"\n",
    "}\n",
    "\n",
    "response = requests.post(url, headers=headers, json=data)\n",
    "\n",
    "print(response.status_code)\n",
    "print(response.json())"
   ]
  },
  {
   "cell_type": "code",
   "execution_count": 37,
   "metadata": {},
   "outputs": [
    {
     "name": "stdout",
     "output_type": "stream",
     "text": [
      "Unexpected exception formatting exception. Falling back to standard exception\n"
     ]
    },
    {
     "name": "stderr",
     "output_type": "stream",
     "text": [
      "Traceback (most recent call last):\n",
      "  File \"/Users/thomas_admin/Downloads/self_work/radio_satyam/radio_venv/lib/python3.11/site-packages/IPython/core/interactiveshell.py\", line 3577, in run_code\n",
      "  File \"/var/folders/tw/xrh41djs3wn7zlzp_lww4t080000gn/T/ipykernel_95434/2269649813.py\", line 1, in <module>\n",
      "    get_ipython().system('pip install python-dotenv')\n",
      "  File \"/Users/thomas_admin/Downloads/self_work/radio_satyam/radio_venv/lib/python3.11/site-packages/ipykernel/zmqshell.py\", line 657, in system_piped\n",
      "  File \"/Users/thomas_admin/Downloads/self_work/radio_satyam/radio_venv/lib/python3.11/site-packages/IPython/utils/_process_posix.py\", line 125, in system\n",
      "ModuleNotFoundError: No module named 'pexpect'\n",
      "\n",
      "During handling of the above exception, another exception occurred:\n",
      "\n",
      "Traceback (most recent call last):\n",
      "  File \"/Users/thomas_admin/Downloads/self_work/radio_satyam/radio_venv/lib/python3.11/site-packages/pygments/styles/__init__.py\", line 45, in get_style_by_name\n",
      "ModuleNotFoundError: No module named 'pygments.styles.default'\n",
      "\n",
      "During handling of the above exception, another exception occurred:\n",
      "\n",
      "Traceback (most recent call last):\n",
      "  File \"/Users/thomas_admin/Downloads/self_work/radio_satyam/radio_venv/lib/python3.11/site-packages/IPython/core/interactiveshell.py\", line 2168, in showtraceback\n",
      "  File \"/Users/thomas_admin/Downloads/self_work/radio_satyam/radio_venv/lib/python3.11/site-packages/IPython/core/ultratb.py\", line 1454, in structured_traceback\n",
      "  File \"/Users/thomas_admin/Downloads/self_work/radio_satyam/radio_venv/lib/python3.11/site-packages/IPython/core/ultratb.py\", line 1345, in structured_traceback\n",
      "  File \"/Users/thomas_admin/Downloads/self_work/radio_satyam/radio_venv/lib/python3.11/site-packages/IPython/core/ultratb.py\", line 1192, in structured_traceback\n",
      "  File \"/Users/thomas_admin/Downloads/self_work/radio_satyam/radio_venv/lib/python3.11/site-packages/IPython/core/ultratb.py\", line 1082, in format_exception_as_a_whole\n",
      "  File \"/Users/thomas_admin/Downloads/self_work/radio_satyam/radio_venv/lib/python3.11/site-packages/IPython/core/ultratb.py\", line 1133, in get_records\n",
      "  File \"/Users/thomas_admin/Downloads/self_work/radio_satyam/radio_venv/lib/python3.11/site-packages/pygments/styles/__init__.py\", line 47, in get_style_by_name\n",
      "pygments.util.ClassNotFound: Could not find style module 'pygments.styles.default', though it should be builtin.\n"
     ]
    }
   ],
   "source": [
    "!pip install python-dotenv"
   ]
  },
  {
   "cell_type": "code",
   "execution_count": 39,
   "metadata": {},
   "outputs": [
    {
     "name": "stdout",
     "output_type": "stream",
     "text": [
      "Unexpected exception formatting exception. Falling back to standard exception\n"
     ]
    },
    {
     "name": "stderr",
     "output_type": "stream",
     "text": [
      "Traceback (most recent call last):\n",
      "  File \"/Users/thomas_admin/Downloads/self_work/radio_satyam/radio_venv/lib/python3.11/site-packages/IPython/core/interactiveshell.py\", line 3577, in run_code\n",
      "  File \"/var/folders/tw/xrh41djs3wn7zlzp_lww4t080000gn/T/ipykernel_95434/603783998.py\", line 1, in <module>\n",
      "    get_ipython().system('pip uninstall pygments')\n",
      "  File \"/Users/thomas_admin/Downloads/self_work/radio_satyam/radio_venv/lib/python3.11/site-packages/ipykernel/zmqshell.py\", line 657, in system_piped\n",
      "  File \"/Users/thomas_admin/Downloads/self_work/radio_satyam/radio_venv/lib/python3.11/site-packages/IPython/utils/_process_posix.py\", line 125, in system\n",
      "ModuleNotFoundError: No module named 'pexpect'\n",
      "\n",
      "During handling of the above exception, another exception occurred:\n",
      "\n",
      "Traceback (most recent call last):\n",
      "  File \"/Users/thomas_admin/Downloads/self_work/radio_satyam/radio_venv/lib/python3.11/site-packages/pygments/styles/__init__.py\", line 45, in get_style_by_name\n",
      "ModuleNotFoundError: No module named 'pygments.styles.default'\n",
      "\n",
      "During handling of the above exception, another exception occurred:\n",
      "\n",
      "Traceback (most recent call last):\n",
      "  File \"/Users/thomas_admin/Downloads/self_work/radio_satyam/radio_venv/lib/python3.11/site-packages/IPython/core/interactiveshell.py\", line 2168, in showtraceback\n",
      "  File \"/Users/thomas_admin/Downloads/self_work/radio_satyam/radio_venv/lib/python3.11/site-packages/IPython/core/ultratb.py\", line 1454, in structured_traceback\n",
      "  File \"/Users/thomas_admin/Downloads/self_work/radio_satyam/radio_venv/lib/python3.11/site-packages/IPython/core/ultratb.py\", line 1345, in structured_traceback\n",
      "  File \"/Users/thomas_admin/Downloads/self_work/radio_satyam/radio_venv/lib/python3.11/site-packages/IPython/core/ultratb.py\", line 1192, in structured_traceback\n",
      "  File \"/Users/thomas_admin/Downloads/self_work/radio_satyam/radio_venv/lib/python3.11/site-packages/IPython/core/ultratb.py\", line 1082, in format_exception_as_a_whole\n",
      "  File \"/Users/thomas_admin/Downloads/self_work/radio_satyam/radio_venv/lib/python3.11/site-packages/IPython/core/ultratb.py\", line 1133, in get_records\n",
      "  File \"/Users/thomas_admin/Downloads/self_work/radio_satyam/radio_venv/lib/python3.11/site-packages/pygments/styles/__init__.py\", line 47, in get_style_by_name\n",
      "pygments.util.ClassNotFound: Could not find style module 'pygments.styles.default', though it should be builtin.\n"
     ]
    }
   ],
   "source": [
    "!pip uninstall pygments\n",
    "!pip install pygments"
   ]
  },
  {
   "cell_type": "code",
   "execution_count": 3,
   "metadata": {},
   "outputs": [],
   "source": [
    "from agent import build_agent"
   ]
  },
  {
   "cell_type": "code",
   "execution_count": 4,
   "metadata": {},
   "outputs": [
    {
     "data": {
      "text/plain": [
       "<llama_index.agent.openai.base.OpenAIAgent at 0x133775ad0>"
      ]
     },
     "execution_count": 4,
     "metadata": {},
     "output_type": "execute_result"
    }
   ],
   "source": [
    "agent = build_agent()\n",
    "agent"
   ]
  },
  {
   "cell_type": "code",
   "execution_count": 5,
   "metadata": {},
   "outputs": [
    {
     "data": {
      "text/plain": [
       "[ChatMessage(role=<MessageRole.USER: 'user'>, content='i want to schedule working hour', additional_kwargs={}),\n",
       " ChatMessage(role=<MessageRole.FUNCTION: 'function'>, content='Ask user to select date and time from this pop up', additional_kwargs={'name': 'Ask user to select date and time from this pop up'}),\n",
       " ChatMessage(role=<MessageRole.ASSISTANT: 'assistant'>, content='Please select the date and time for your working hours from the pop-up.', additional_kwargs={})]"
      ]
     },
     "execution_count": 5,
     "metadata": {},
     "output_type": "execute_result"
    }
   ],
   "source": [
    "agent.chat_history"
   ]
  },
  {
   "cell_type": "code",
   "execution_count": null,
   "metadata": {},
   "outputs": [],
   "source": []
  }
 ],
 "metadata": {
  "kernelspec": {
   "display_name": "radio_venv",
   "language": "python",
   "name": "python3"
  },
  "language_info": {
   "codemirror_mode": {
    "name": "ipython",
    "version": 3
   },
   "file_extension": ".py",
   "mimetype": "text/x-python",
   "name": "python",
   "nbconvert_exporter": "python",
   "pygments_lexer": "ipython3",
   "version": "3.11.7"
  }
 },
 "nbformat": 4,
 "nbformat_minor": 2
}
